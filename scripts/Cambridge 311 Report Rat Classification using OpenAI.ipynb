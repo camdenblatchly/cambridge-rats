{
 "cells": [
  {
   "cell_type": "markdown",
   "id": "55527912-d65f-4f21-81d2-f23c4769bada",
   "metadata": {},
   "source": [
    "### About this file\n",
    "\n",
    "This file uses OpenAI to determine whether Cambridge, MA 311 reports are about rats, using the open text responses submitted by residents.\n",
    "\n",
    "Ultimately, due to time and expense, it was faster and similarly accurate to use regular expressions to determine if a 311 reports was rat-related."
   ]
  },
  {
   "cell_type": "code",
   "execution_count": 1,
   "id": "6e94fea6-fc8e-4907-9f8d-ac4e843437bb",
   "metadata": {},
   "outputs": [],
   "source": [
    "import files\n",
    "import os\n",
    "import pandas as pd\n",
    "from openai import OpenAI\n",
    "from IPython.display import display, Markdown\n",
    "from tqdm.auto import tqdm # makes pretty progress bars\n",
    "import re\n",
    "tqdm.pandas()\n",
    "\n",
    "from dotenv import load_dotenv"
   ]
  },
  {
   "cell_type": "code",
   "execution_count": 159,
   "id": "789444bf-6aa9-41a4-9b9f-c61b44ba41d4",
   "metadata": {},
   "outputs": [],
   "source": [
    "load_dotenv()\n",
    "api_key = os.environ['MyDevelopmentKey']"
   ]
  },
  {
   "cell_type": "code",
   "execution_count": 160,
   "id": "990928c6-7414-4892-a482-ac5ff93afd69",
   "metadata": {},
   "outputs": [],
   "source": [
    "df = pd.read_csv(\"../data/Cambridge_MA_Commonwealth_Connect_Service_Requests_20250729.csv\")"
   ]
  },
  {
   "cell_type": "code",
   "execution_count": 161,
   "id": "dbb2a81a-7f46-4219-a46f-48da80bcc03b",
   "metadata": {},
   "outputs": [],
   "source": [
    "# Goal: Determine what number of issue types with the substring \"rat\" are really about rats!\n",
    "df['issue_text_full'] = df['issue_type'] + '. ' + df['issue_description']\n",
    "\n",
    "rat_related = df[\n",
    "    df['issue_text_full'].str.contains(r'\\brats?\\b', case=False, na=False, regex=True) &\n",
    "    (df['issue_category'] != \"Rodent Sighting\")\n",
    "]\n"
   ]
  },
  {
   "cell_type": "code",
   "execution_count": 162,
   "id": "ae0c1d25-3ecd-45ee-bd12-164c6b13e25e",
   "metadata": {},
   "outputs": [],
   "source": [
    "rat_related_sample = rat_related.sample(n=50)"
   ]
  },
  {
   "cell_type": "code",
   "execution_count": 163,
   "id": "dfb59791-adce-484a-b58c-0007b44427db",
   "metadata": {},
   "outputs": [],
   "source": [
    "# set up connection to OpenAI client\n",
    "client = OpenAI(api_key=api_key)"
   ]
  },
  {
   "cell_type": "code",
   "execution_count": 164,
   "id": "537f52cc-9a4a-40ba-942c-901fe6ef5c51",
   "metadata": {},
   "outputs": [],
   "source": [
    "from enum import Enum, IntEnum\n",
    "\n",
    "class RatResponseOptions(str, Enum):\n",
    "    about_rats = \"About rats\"\n",
    "    not_about_rats = \"Not about rats\"\n",
    "\n",
    "# Be sure to list the categories with the magic phrase {categories}\n",
    "prompt_base = \"\"\"\n",
    "\n",
    "You are a talented rodent infestation expert and analyst.\n",
    "\n",
    "You are tasked with determining whether 311 incident reports are about Rats or not.\n",
    "\n",
    "I'm going to give you open-text responses submitted by residents and you will classify them into a category.\n",
    "\n",
    "Give the best match for the category. Return only a single category.\n",
    "\n",
    "Choose only from these options: {categories}\n",
    "\n",
    "Here is the idea:\n",
    "\n",
    "{idea_text}\n",
    "\n",
    "\"\"\""
   ]
  },
  {
   "cell_type": "code",
   "execution_count": 165,
   "id": "d5fd73de-cd1d-4d14-bd8a-1de9f2e54879",
   "metadata": {},
   "outputs": [],
   "source": [
    "# for convenience, make a column in our dataframes with the prompt for each item\n",
    "rat_related_sample_prompt_column = rat_related_sample.apply(lambda row: prompt_base.format(\n",
    "    idea_text = row[\"issue_text_full\"],\n",
    "    categories=\", \".join(['\"{}\"'.format(opt.value) for opt in RatResponseOptions])\n",
    "), axis=\"columns\")\n",
    "\n",
    "rat_related_full_prompt_column = rat_related.apply(lambda row: prompt_base.format(\n",
    "    idea_text = row[\"issue_text_full\"],\n",
    "    categories=\", \".join(['\"{}\"'.format(opt.value) for opt in RatResponseOptions])\n",
    "), axis=\"columns\")"
   ]
  },
  {
   "cell_type": "code",
   "execution_count": 166,
   "id": "618a4090-1920-4724-9f77-50372d94e4e0",
   "metadata": {},
   "outputs": [],
   "source": [
    "## Cost estimation\n",
    "\n",
    "from strip_tags import strip_tags\n",
    "import tiktoken\n",
    "\n",
    "def count_tokens(model, text):\n",
    "    encoding = tiktoken.encoding_for_model(model if model != 'gpt-4.1-mini' else 'gpt-4o')\n",
    "    tokens = encoding.encode(text)\n",
    "    return len(tokens)\n",
    "\n",
    "input_token_costs = {\n",
    "    \"gpt-4.1-mini\": 0.4 / 1_000_000,  # https://openai.com/api/pricing/\n",
    "    \"mistral-medium-latest\": 0.4 / 1_000_000, # https://mistral.ai/pricing#api-pricing\n",
    "    \"mistral-large-latest\": 2.0 / 1_000_000\n",
    "}\n",
    "def estimate_cost(model, token_count):\n",
    "    return token_count * input_token_costs[model]\n",
    "\n",
    "MODEL_TO_USE = 'gpt-4.1-mini'\n",
    "\n",
    "count_tokens_for_our_model = lambda text: count_tokens(MODEL_TO_USE, text)"
   ]
  },
  {
   "cell_type": "code",
   "execution_count": 167,
   "id": "83a68f93-3b9d-4669-8ac4-5fbac263f03a",
   "metadata": {},
   "outputs": [
    {
     "data": {
      "text/plain": [
       "'Sample would cost: $0.00'"
      ]
     },
     "execution_count": 167,
     "metadata": {},
     "output_type": "execute_result"
    }
   ],
   "source": [
    "# Cost estimation for sample dataset\n",
    "token_count_sample = count_tokens_for_our_model(\"SAMPLE RESPONSE SAMPLE RESPONSE\".join(rat_related_sample_prompt_column))\n",
    "\"Sample would cost: ${:.2f}\".format(estimate_cost(MODEL_TO_USE, token_count_sample))"
   ]
  },
  {
   "cell_type": "code",
   "execution_count": 168,
   "id": "8cb14101-507d-46be-b4b2-415ea38e6ed0",
   "metadata": {},
   "outputs": [
    {
     "data": {
      "text/plain": [
       "'Full dataset would cost: $0.11'"
      ]
     },
     "execution_count": 168,
     "metadata": {},
     "output_type": "execute_result"
    }
   ],
   "source": [
    "## cost estimation for full dataset\n",
    "token_count_full = count_tokens_for_our_model(\"SAMPLE RESPONSE SAMPLE RESPONSE\".join(rat_related_full_prompt_column))\n",
    "\"Full dataset would cost: ${:.2f}\".format(estimate_cost(MODEL_TO_USE, token_count_full))"
   ]
  },
  {
   "cell_type": "code",
   "execution_count": 169,
   "id": "f337b7d9-fcb0-470a-a10c-f2959ad63daf",
   "metadata": {},
   "outputs": [],
   "source": [
    "# Function to actually send the prompt to OpenAI and get the answer\n",
    "from pydantic import BaseModel\n",
    "import time\n",
    "\n",
    "class RatValidCategories(BaseModel):\n",
    "  classification: RatResponseOptions\n",
    "\n",
    "def classify(prompt_including_idea):\n",
    "\n",
    "    # put our prompt into the blob that OpenAI expects\n",
    "    messages = [\n",
    "        {\n",
    "            \"role\": \"system\",\n",
    "            \"content\": \"You are a helpful assistant.\",\n",
    "        },\n",
    "        {\n",
    "            \"role\": \"user\",\n",
    "            \"content\": prompt_including_idea,\n",
    "        }\n",
    "    ]\n",
    "\n",
    "    chat_completion = client.responses.parse(\n",
    "        input=messages,\n",
    "        model='gpt-4o',\n",
    "        text_format=RatValidCategories,\n",
    "    )\n",
    "    # get the answer out of the blob that OpenAI returns.\n",
    "    resp = chat_completion.output_parsed.classification.value if chat_completion.output_parsed else None\n",
    "    return resp"
   ]
  },
  {
   "cell_type": "code",
   "execution_count": 170,
   "id": "3db7418b-9684-43ff-901e-059f97688e1f",
   "metadata": {},
   "outputs": [
    {
     "data": {
      "application/vnd.jupyter.widget-view+json": {
       "model_id": "9599d4116c0b4d7ebbfe5e0529eeccab",
       "version_major": 2,
       "version_minor": 0
      },
      "text/plain": [
       "  0%|          | 0/50 [00:00<?, ?it/s]"
      ]
     },
     "metadata": {},
     "output_type": "display_data"
    }
   ],
   "source": [
    "rat_related_sample[\"ai_guess\"] = rat_related_sample_prompt_column.progress_apply(classify)"
   ]
  },
  {
   "cell_type": "code",
   "execution_count": 171,
   "id": "1a629c64-790d-4019-a3ee-917cf77aad3e",
   "metadata": {},
   "outputs": [
    {
     "data": {
      "text/markdown": [
       "## Here are a few results. How good did we do?"
      ],
      "text/plain": [
       "<IPython.core.display.Markdown object>"
      ]
     },
     "metadata": {},
     "output_type": "display_data"
    },
    {
     "data": {
      "text/html": [
       "<div>\n",
       "<style scoped>\n",
       "    .dataframe tbody tr th:only-of-type {\n",
       "        vertical-align: middle;\n",
       "    }\n",
       "\n",
       "    .dataframe tbody tr th {\n",
       "        vertical-align: top;\n",
       "    }\n",
       "\n",
       "    .dataframe thead th {\n",
       "        text-align: right;\n",
       "    }\n",
       "</style>\n",
       "<table border=\"1\" class=\"dataframe\">\n",
       "  <thead>\n",
       "    <tr style=\"text-align: right;\">\n",
       "      <th></th>\n",
       "      <th>issue_text_full</th>\n",
       "      <th>ai_guess</th>\n",
       "    </tr>\n",
       "  </thead>\n",
       "  <tbody>\n",
       "    <tr>\n",
       "      <th>111480</th>\n",
       "      <td>Roadkill / Dead Animal. Dead rat.</td>\n",
       "      <td>About rats</td>\n",
       "    </tr>\n",
       "    <tr>\n",
       "      <th>15640</th>\n",
       "      <td>Overflowing Public Trash/Recycling Receptacle. Overflowing dumpster in neighborhood dealing with a lot of rats due to mismanaged dumpsters. Please address.</td>\n",
       "      <td>About rats</td>\n",
       "    </tr>\n",
       "    <tr>\n",
       "      <th>13657</th>\n",
       "      <td>Rodent Sighting. Dead rat in front of the door of 345 Franklin street</td>\n",
       "      <td>About rats</td>\n",
       "    </tr>\n",
       "    <tr>\n",
       "      <th>3050</th>\n",
       "      <td>Other. The trash here is again not handled properly  I have seen rats and will provide photos as soon as I can but the bags of trash are clearly visible from the street.</td>\n",
       "      <td>About rats</td>\n",
       "    </tr>\n",
       "    <tr>\n",
       "      <th>6016</th>\n",
       "      <td>Overflowing Public Trash/Recycling Receptacle. Trash bags not in a bin left overnight for the rats to eat, again. I'm starting to wonder if DPW is telling the Frisoli Youth Center to leave their trash here. Either way, it's happening on a regular basis, DPW could you please install a bin?</td>\n",
       "      <td>About rats</td>\n",
       "    </tr>\n",
       "    <tr>\n",
       "      <th>54822</th>\n",
       "      <td>Roadkill / Dead Animal. Dead rat</td>\n",
       "      <td>About rats</td>\n",
       "    </tr>\n",
       "    <tr>\n",
       "      <th>78956</th>\n",
       "      <td>Roadkill / Dead Animal. dead rat in St 43 market</td>\n",
       "      <td>About rats</td>\n",
       "    </tr>\n",
       "    <tr>\n",
       "      <th>13371</th>\n",
       "      <td>Overflowing Public Trash/Recycling Receptacle. Need dog waste bin instead of recycling here. The big belly trash on corner near tennis court is constantly left open ((almost daily)) and I'm terrified to go near it because of the amount of rats I see in the area.</td>\n",
       "      <td>About rats</td>\n",
       "    </tr>\n",
       "    <tr>\n",
       "      <th>76894</th>\n",
       "      <td>Roadkill / Dead Animal. Dead rat. Please be informed.</td>\n",
       "      <td>About rats</td>\n",
       "    </tr>\n",
       "    <tr>\n",
       "      <th>1808</th>\n",
       "      <td>Rodent Sighting. Dead rat on sidewalk - pls remove asap</td>\n",
       "      <td>About rats</td>\n",
       "    </tr>\n",
       "  </tbody>\n",
       "</table>\n",
       "</div>"
      ],
      "text/plain": [
       "                                                                                                                                                                                                                                                                                          issue_text_full  \\\n",
       "111480                                                                                                                                                                                                                                                                  Roadkill / Dead Animal. Dead rat.   \n",
       "15640                                                                                                                                         Overflowing Public Trash/Recycling Receptacle. Overflowing dumpster in neighborhood dealing with a lot of rats due to mismanaged dumpsters. Please address.   \n",
       "13657                                                                                                                                                                                                                               Rodent Sighting. Dead rat in front of the door of 345 Franklin street   \n",
       "3050                                                                                                                            Other. The trash here is again not handled properly  I have seen rats and will provide photos as soon as I can but the bags of trash are clearly visible from the street.   \n",
       "6016    Overflowing Public Trash/Recycling Receptacle. Trash bags not in a bin left overnight for the rats to eat, again. I'm starting to wonder if DPW is telling the Frisoli Youth Center to leave their trash here. Either way, it's happening on a regular basis, DPW could you please install a bin?   \n",
       "54822                                                                                                                                                                                                                                                                    Roadkill / Dead Animal. Dead rat   \n",
       "78956                                                                                                                                                                                                                                                    Roadkill / Dead Animal. dead rat in St 43 market   \n",
       "13371                              Overflowing Public Trash/Recycling Receptacle. Need dog waste bin instead of recycling here. The big belly trash on corner near tennis court is constantly left open ((almost daily)) and I'm terrified to go near it because of the amount of rats I see in the area.   \n",
       "76894                                                                                                                                                                                                                                               Roadkill / Dead Animal. Dead rat. Please be informed.   \n",
       "1808                                                                                                                                                                                                                                              Rodent Sighting. Dead rat on sidewalk - pls remove asap   \n",
       "\n",
       "          ai_guess  \n",
       "111480  About rats  \n",
       "15640   About rats  \n",
       "13657   About rats  \n",
       "3050    About rats  \n",
       "6016    About rats  \n",
       "54822   About rats  \n",
       "78956   About rats  \n",
       "13371   About rats  \n",
       "76894   About rats  \n",
       "1808    About rats  "
      ]
     },
     "metadata": {},
     "output_type": "display_data"
    }
   ],
   "source": [
    "display(Markdown(\"## Here are a few results. How good did we do?\"))\n",
    "with pd.option_context(\"display.max_colwidth\", 500):\n",
    "  display(\n",
    "      rat_related_sample[[\"issue_text_full\", \"ai_guess\"]].head(10)\n",
    "  )"
   ]
  },
  {
   "cell_type": "code",
   "execution_count": 144,
   "id": "6b0a6300-4f88-4015-a73e-c63b1dae8509",
   "metadata": {},
   "outputs": [],
   "source": [
    "# Export CSV for manual classification/groundtruthing\n",
    "\n",
    "# rat_related_sample[\"groundtruth\"] = \"\"\n",
    "# rat_related_sample.to_csv('../data/cambridge_rat_311_for_hand_classification.csv')"
   ]
  },
  {
   "cell_type": "code",
   "execution_count": 148,
   "id": "91dc373d-4756-4377-bbdf-50ed8881562c",
   "metadata": {},
   "outputs": [
    {
     "data": {
      "text/markdown": [
       "Accuracy score: 98.0%. Is that good?"
      ],
      "text/plain": [
       "<IPython.core.display.Markdown object>"
      ]
     },
     "metadata": {},
     "output_type": "display_data"
    }
   ],
   "source": [
    "# handcoded = pd.read_csv(\"../data/handcoded.csv\")\n",
    "# from sklearn.metrics import accuracy_score\n",
    "# display(Markdown(\"Accuracy score: {:.1%}. Is that good?\".format(\n",
    "#     accuracy_score(handcoded[\"groundtruth\"], handcoded[\"ai_guess\"])\n",
    "# )))"
   ]
  },
  {
   "cell_type": "code",
   "execution_count": 146,
   "id": "93f2b904-b452-4461-acb0-903bf3e8d304",
   "metadata": {},
   "outputs": [
    {
     "name": "stdin",
     "output_type": "stream",
     "text": [
      " \n"
     ]
    }
   ],
   "source": [
    "# are_you_sure_you_want_to_classify_the_whole_thing = input()"
   ]
  },
  {
   "cell_type": "code",
   "execution_count": 147,
   "id": "0f119307-4d6c-4e21-8f59-7490c7597907",
   "metadata": {},
   "outputs": [],
   "source": [
    "# rat_related[\"ai_guess\"] = rat_related_full_prompt_column.progress_apply(classify)"
   ]
  },
  {
   "cell_type": "code",
   "execution_count": 172,
   "id": "49f0a993-282d-4b9f-a6fb-8f8e9004a694",
   "metadata": {},
   "outputs": [
    {
     "name": "stderr",
     "output_type": "stream",
     "text": [
      "100%|██████████████████████████████████████████████████████████████████████████████████████████████████████████████████████████████████████████████████████████████| 2328/2328 [49:09<00:00,  1.27s/it]\n"
     ]
    }
   ],
   "source": [
    "from tqdm import tqdm\n",
    "\n",
    "# Make sure your DataFrame index matches the Series\n",
    "rat_related_export = rat_related.copy().reset_index()  # in case you're slicing views\n",
    "\n",
    "results = []\n",
    "\n",
    "# Loop through the prompts with index\n",
    "for i, (idx, prompt) in tqdm(enumerate(rat_related_full_prompt_column.items()), total=len(rat_related_full_prompt_column)):\n",
    "    try:\n",
    "        guess = classify(prompt)\n",
    "    except Exception as e:\n",
    "        guess = None\n",
    "        print(f\"Error at i {i} index {idx}: {e}\")\n",
    "    \n",
    "    results.append((idx, guess))\n",
    "\n",
    "    # Save progress every 10 entries\n",
    "    if i % 10 == 0:\n",
    "        for j, g in results:\n",
    "            rat_related_export.loc[j, \"ai_guess\"] = g\n",
    "        rat_related_export.to_csv(\"../data/rat_related_partial.csv\", index=False)\n"
   ]
  },
  {
   "cell_type": "code",
   "execution_count": 173,
   "id": "f4b037d8-19dc-4444-99ca-3d291c22d530",
   "metadata": {},
   "outputs": [],
   "source": [
    "rat_related_export.to_csv(\"../data/rat_related_full.csv\", index=False)"
   ]
  },
  {
   "cell_type": "code",
   "execution_count": null,
   "id": "e5af6c1d-991d-4f85-895a-8a4d133e2814",
   "metadata": {},
   "outputs": [],
   "source": []
  }
 ],
 "metadata": {
  "kernelspec": {
   "display_name": "Python 3 (ipykernel)",
   "language": "python",
   "name": "python3"
  },
  "language_info": {
   "codemirror_mode": {
    "name": "ipython",
    "version": 3
   },
   "file_extension": ".py",
   "mimetype": "text/x-python",
   "name": "python",
   "nbconvert_exporter": "python",
   "pygments_lexer": "ipython3",
   "version": "3.12.10"
  }
 },
 "nbformat": 4,
 "nbformat_minor": 5
}
